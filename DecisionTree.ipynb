{
  "cells": [
    {
      "cell_type": "markdown",
      "metadata": {},
      "source": [
        "Jiaxi Yang\n",
        "3005626242"
      ]
    },
    {
      "cell_type": "markdown",
      "metadata": {
        "id": "qTorIDyxp9PA"
      },
      "source": [
        "# **Decision Tree Classification: 50 Points**"
      ]
    },
    {
      "cell_type": "markdown",
      "metadata": {
        "id": "c7UQXxqk_mIp"
      },
      "source": [
        "Decision Trees (DTs) are a non-parametric supervised learning method used for classification and regression. The goal is to create a model that predicts the value of a target variable by learning simple decision rules inferred from the data features. A tree can be seen as a piecewise constant approximation."
      ]
    },
    {
      "cell_type": "markdown",
      "metadata": {
        "id": "6FmlIiAi__u1"
      },
      "source": [
        "**STEP 1: Importing all the required libraries.**"
      ]
    },
    {
      "cell_type": "code",
      "execution_count": 4,
      "metadata": {
        "id": "2CQFMu_co3uB"
      },
      "outputs": [],
      "source": [
        "# Libraries for data analysis\n",
        "import numpy as np # For large multi-dimensional array and matrix processing\n",
        "import pandas as pd # For data extraction and preparation\n",
        "\n",
        "#The sklearn.tree module includes decision tree-based models for classification and regression.\n",
        "from sklearn import tree\n",
        "\n",
        "# Libraries for displaying results and analysis\n",
        "from sklearn.model_selection import train_test_split\n",
        "from sklearn.metrics import confusion_matrix, accuracy_score, ConfusionMatrixDisplay"
      ]
    },
    {
      "cell_type": "markdown",
      "metadata": {
        "id": "Tw2IL1zjARue"
      },
      "source": [
        "**STEP 2: Importing Dataset**"
      ]
    },
    {
      "cell_type": "markdown",
      "metadata": {
        "id": "vcZC7VWpAVde"
      },
      "source": [
        "We are going to be using the wine toy dataset from SciKit Learn"
      ]
    },
    {
      "cell_type": "code",
      "execution_count": 2,
      "metadata": {
        "id": "xZ8E5GxNteHV"
      },
      "outputs": [],
      "source": [
        "from sklearn.datasets import load_wine\n",
        "wine_data = load_wine()"
      ]
    },
    {
      "cell_type": "markdown",
      "metadata": {
        "id": "7H1o-aBUBNLC"
      },
      "source": [
        "You can optionally print the Description of the dataset for your reference."
      ]
    },
    {
      "cell_type": "code",
      "execution_count": 3,
      "metadata": {
        "colab": {
          "base_uri": "https://localhost:8080/"
        },
        "id": "Qn_6VEEHzNpd",
        "outputId": "ad18519b-374c-4c4f-d9b3-8674e771294b"
      },
      "outputs": [
        {
          "name": "stdout",
          "output_type": "stream",
          "text": [
            "(178, 13)\n",
            "(178,)\n",
            ".. _wine_dataset:\n",
            "\n",
            "Wine recognition dataset\n",
            "------------------------\n",
            "\n",
            "**Data Set Characteristics:**\n",
            "\n",
            "    :Number of Instances: 178 (50 in each of three classes)\n",
            "    :Number of Attributes: 13 numeric, predictive attributes and the class\n",
            "    :Attribute Information:\n",
            " \t\t- Alcohol\n",
            " \t\t- Malic acid\n",
            " \t\t- Ash\n",
            "\t\t- Alcalinity of ash  \n",
            " \t\t- Magnesium\n",
            "\t\t- Total phenols\n",
            " \t\t- Flavanoids\n",
            " \t\t- Nonflavanoid phenols\n",
            " \t\t- Proanthocyanins\n",
            "\t\t- Color intensity\n",
            " \t\t- Hue\n",
            " \t\t- OD280/OD315 of diluted wines\n",
            " \t\t- Proline\n",
            "\n",
            "    - class:\n",
            "            - class_0\n",
            "            - class_1\n",
            "            - class_2\n",
            "\t\t\n",
            "    :Summary Statistics:\n",
            "    \n",
            "    ============================= ==== ===== ======= =====\n",
            "                                   Min   Max   Mean     SD\n",
            "    ============================= ==== ===== ======= =====\n",
            "    Alcohol:                      11.0  14.8    13.0   0.8\n",
            "    Malic Acid:                   0.74  5.80    2.34  1.12\n",
            "    Ash:                          1.36  3.23    2.36  0.27\n",
            "    Alcalinity of Ash:            10.6  30.0    19.5   3.3\n",
            "    Magnesium:                    70.0 162.0    99.7  14.3\n",
            "    Total Phenols:                0.98  3.88    2.29  0.63\n",
            "    Flavanoids:                   0.34  5.08    2.03  1.00\n",
            "    Nonflavanoid Phenols:         0.13  0.66    0.36  0.12\n",
            "    Proanthocyanins:              0.41  3.58    1.59  0.57\n",
            "    Colour Intensity:              1.3  13.0     5.1   2.3\n",
            "    Hue:                          0.48  1.71    0.96  0.23\n",
            "    OD280/OD315 of diluted wines: 1.27  4.00    2.61  0.71\n",
            "    Proline:                       278  1680     746   315\n",
            "    ============================= ==== ===== ======= =====\n",
            "\n",
            "    :Missing Attribute Values: None\n",
            "    :Class Distribution: class_0 (59), class_1 (71), class_2 (48)\n",
            "    :Creator: R.A. Fisher\n",
            "    :Donor: Michael Marshall (MARSHALL%PLU@io.arc.nasa.gov)\n",
            "    :Date: July, 1988\n",
            "\n",
            "This is a copy of UCI ML Wine recognition datasets.\n",
            "https://archive.ics.uci.edu/ml/machine-learning-databases/wine/wine.data\n",
            "\n",
            "The data is the results of a chemical analysis of wines grown in the same\n",
            "region in Italy by three different cultivators. There are thirteen different\n",
            "measurements taken for different constituents found in the three types of\n",
            "wine.\n",
            "\n",
            "Original Owners: \n",
            "\n",
            "Forina, M. et al, PARVUS - \n",
            "An Extendible Package for Data Exploration, Classification and Correlation. \n",
            "Institute of Pharmaceutical and Food Analysis and Technologies,\n",
            "Via Brigata Salerno, 16147 Genoa, Italy.\n",
            "\n",
            "Citation:\n",
            "\n",
            "Lichman, M. (2013). UCI Machine Learning Repository\n",
            "[https://archive.ics.uci.edu/ml]. Irvine, CA: University of California,\n",
            "School of Information and Computer Science. \n",
            "\n",
            ".. topic:: References\n",
            "\n",
            "  (1) S. Aeberhard, D. Coomans and O. de Vel, \n",
            "  Comparison of Classifiers in High Dimensional Settings, \n",
            "  Tech. Rep. no. 92-02, (1992), Dept. of Computer Science and Dept. of  \n",
            "  Mathematics and Statistics, James Cook University of North Queensland. \n",
            "  (Also submitted to Technometrics). \n",
            "\n",
            "  The data was used with many others for comparing various \n",
            "  classifiers. The classes are separable, though only RDA \n",
            "  has achieved 100% correct classification. \n",
            "  (RDA : 100%, QDA 99.4%, LDA 98.9%, 1NN 96.1% (z-transformed data)) \n",
            "  (All results using the leave-one-out technique) \n",
            "\n",
            "  (2) S. Aeberhard, D. Coomans and O. de Vel, \n",
            "  \"THE CLASSIFICATION PERFORMANCE OF RDA\" \n",
            "  Tech. Rep. no. 92-01, (1992), Dept. of Computer Science and Dept. of \n",
            "  Mathematics and Statistics, James Cook University of North Queensland. \n",
            "  (Also submitted to Journal of Chemometrics).\n",
            "\n"
          ]
        }
      ],
      "source": [
        "print(wine_data.data.shape)\n",
        "print(wine_data.target.shape)\n",
        "print(wine_data.DESCR)"
      ]
    },
    {
      "cell_type": "markdown",
      "metadata": {
        "id": "qOK9ShfyBbD0"
      },
      "source": [
        "**STEP 3: Split the Dataset (10 Points)**\n",
        "\n",
        "**TO DO:** Similar to the KNN Tutorial, split the given X and y data into X_train, X_test, y_train, y_test, using **test ratio of 0.3**."
      ]
    },
    {
      "cell_type": "code",
      "execution_count": 4,
      "metadata": {
        "colab": {
          "base_uri": "https://localhost:8080/"
        },
        "id": "Bk8v4pJ5vVEn",
        "outputId": "6905f592-a91b-4a43-92cd-d309f41625ea"
      },
      "outputs": [
        {
          "name": "stdout",
          "output_type": "stream",
          "text": [
            "Size of training data=  124  Samples\n",
            "Size of testing data=  54  Samples\n"
          ]
        }
      ],
      "source": [
        "X = wine_data.data\n",
        "y = wine_data.target\n",
        "\n",
        "##### INPUT CODE HERE (~1 line of code) ######\n",
        "X_train, X_test, y_train, y_test = train_test_split(X, y, test_size = 0.3, random_state = 0)\n",
        "\n",
        "\n",
        "##############################################\n",
        "\n",
        "assert X_train.shape == (124,13)\n",
        "assert y_train.shape == (124,)\n",
        "assert X_test.shape == (54,13)\n",
        "assert y_test.shape == (54,)\n",
        "\n",
        "print(\"Size of training data= \", X_train.shape[0],\" Samples\")\n",
        "print(\"Size of testing data= \", X_test.shape[0],\" Samples\")\n"
      ]
    },
    {
      "cell_type": "markdown",
      "metadata": {
        "id": "LPip_B47Dza3"
      },
      "source": [
        "**STEP 4: Fit model to training data (10 Points)**\n",
        "\n",
        "**TO DO:** Fit the given decision tree to X_train and y_train data. You may use [this link](https://scikit-learn.org/stable/modules/generated/sklearn.tree.DecisionTreeClassifier.html#sklearn.tree.DecisionTreeClassifier.fit) for reference."
      ]
    },
    {
      "cell_type": "code",
      "execution_count": 5,
      "metadata": {
        "colab": {
          "base_uri": "https://localhost:8080/"
        },
        "id": "zrwrOMlj0Nkw",
        "outputId": "69ee9068-4b67-4e9e-caa4-6cdc2094ae01"
      },
      "outputs": [
        {
          "name": "stdout",
          "output_type": "stream",
          "text": [
            "Simple Visualization of the tree you created:\n",
            "|--- color_intensity <= 3.82\n",
            "|   |--- proline <= 1002.50\n",
            "|   |   |--- ash <= 3.00\n",
            "|   |   |   |--- class: 1\n",
            "|   |   |--- ash >  3.00\n",
            "|   |   |   |--- class: 0\n",
            "|   |--- proline >  1002.50\n",
            "|   |   |--- class: 0\n",
            "|--- color_intensity >  3.82\n",
            "|   |--- flavanoids <= 1.58\n",
            "|   |   |--- class: 2\n",
            "|   |--- flavanoids >  1.58\n",
            "|   |   |--- proline <= 737.00\n",
            "|   |   |   |--- class: 1\n",
            "|   |   |--- proline >  737.00\n",
            "|   |   |   |--- class: 0\n",
            "\n"
          ]
        }
      ],
      "source": [
        "decision_tree = tree.DecisionTreeClassifier(random_state=0, max_depth=3)\n",
        "\n",
        "\n",
        "##### INPUT CODE HERE (~1 line of code) ######\n",
        "decision_tree.fit(X_train, y_train)\n",
        "\n",
        "\n",
        "##############################################\n",
        "\n",
        "print(\"Simple Visualization of the tree you created:\")\n",
        "print(tree.export_text(decision_tree, feature_names=wine_data.feature_names))\n"
      ]
    },
    {
      "cell_type": "markdown",
      "metadata": {
        "id": "gmAT6f-qFSSF"
      },
      "source": [
        "**STEP 5: Testing the model (10 Points)**\n",
        "\n",
        "**TO DO:** Find target predictions by giving **X_test** input to your model and store them in **y_pred**. You may need [this link](https://scikit-learn.org/stable/modules/generated/sklearn.tree.DecisionTreeClassifier.html#sklearn.tree.DecisionTreeClassifier.predict) for reference."
      ]
    },
    {
      "cell_type": "code",
      "execution_count": 6,
      "metadata": {
        "id": "HoXj0eqZDv-F"
      },
      "outputs": [],
      "source": [
        "##### INPUT CODE HERE (~1 line of code) ######\n",
        "\n",
        "y_pred = decision_tree.predict(X_test)\n",
        "\n",
        "##############################################"
      ]
    },
    {
      "cell_type": "markdown",
      "metadata": {
        "id": "ux7n7XZJF9VY"
      },
      "source": [
        "**STEP 6: Visualize the Results  (20 Points)**\n",
        "\n",
        "**TO DO:** Similar to the KNN Tutorial, plot confusion matrix, and accuracy of model predictions. Store accuracy in **acc** variable\n",
        "\n",
        "You may need the following references:\n",
        "\n",
        "[Confusion Matrix](https://scikit-learn.org/stable/modules/generated/sklearn.metrics.confusion_matrix.html)\n",
        "\n",
        "[Confusion Matrix Display](https://scikit-learn.org/stable/modules/generated/sklearn.metrics.ConfusionMatrixDisplay.html)\n",
        "\n",
        "[Accuracy](https://scikit-learn.org/stable/modules/generated/sklearn.metrics.accuracy_score.html)"
      ]
    },
    {
      "cell_type": "code",
      "execution_count": 7,
      "metadata": {
        "colab": {
          "base_uri": "https://localhost:8080/",
          "height": 297
        },
        "id": "CSXyi0iYwuy6",
        "outputId": "10ee4ef9-6081-416e-ec76-ac03d5d06b96"
      },
      "outputs": [
        {
          "name": "stdout",
          "output_type": "stream",
          "text": [
            "Accuracy of our model is equal to 94.44 %.\n"
          ]
        },
        {
          "data": {
            "image/png": "[encoded data removed]",
            "text/plain": [
              "<Figure size 432x288 with 2 Axes>"
            ]
          },
          "metadata": {
            "needs_background": "light"
          },
          "output_type": "display_data"
        }
      ],
      "source": [
        "##### INPUT CODE HERE (~4 line of code) ######\n",
        "cm = confusion_matrix(y_test, y_pred)\n",
        "cmd = ConfusionMatrixDisplay(cm, display_labels=['class_0','class_1','class_2'])\n",
        "cmd.plot()\n",
        "\n",
        "acc = accuracy_score(y_test, y_pred)*100\n",
        "\n",
        "\n",
        "##############################################\n",
        "\n",
        "print('Accuracy of our model is equal to ' + str(round(acc, 2)) + ' %.')"
      ]
    },
    {
      "cell_type": "markdown",
      "metadata": {
        "id": "v3YuUi8ZHY9f"
      },
      "source": [
        "\n",
        "\n",
        "---\n",
        "\n"
      ]
    },
    {
      "cell_type": "markdown",
      "metadata": {
        "id": "uBbRybjU-xjE"
      },
      "source": [
        "# **Random Forrest Reggression: 50 Points**\n",
        "\n"
      ]
    },
    {
      "cell_type": "markdown",
      "metadata": {
        "id": "qGYwmGnGxn_u"
      },
      "source": [
        "Decision trees can also be applied to regression problems, using the DecisionTreeRegressor class.\n",
        "\n",
        "As in the classification setting, the fit method will take as argument arrays X and y, only that in this case y is expected to have floating point values instead of integer values:"
      ]
    },
    {
      "cell_type": "markdown",
      "metadata": {
        "id": "48r-OKiExtSw"
      },
      "source": [
        "**STEP 1: Importing all the required libraries.**"
      ]
    },
    {
      "cell_type": "code",
      "execution_count": 1,
      "metadata": {
        "id": "9kE4RyoD-4-z"
      },
      "outputs": [],
      "source": [
        "#The sklearn.ensemble module includes the RandomForest algorithm.\n",
        "from sklearn.ensemble import RandomForestRegressor\n",
        "\n",
        "# Libraries for calculating evaluation metrics\n",
        "from sklearn.metrics import mean_squared_error"
      ]
    },
    {
      "cell_type": "markdown",
      "metadata": {
        "id": "las8qWOUHfh2"
      },
      "source": [
        "**STEP 2: Importing Dataset**\n",
        "\n",
        "We are going to be using the California Housing dataset.\n",
        "It contains 20640 samples with 8 dimensions to predict the value of a house.\n"
      ]
    },
    {
      "cell_type": "code",
      "execution_count": 2,
      "metadata": {
        "id": "T8NUIU9Z_YE4"
      },
      "outputs": [],
      "source": [
        "from sklearn.datasets import fetch_california_housing\n",
        "\n",
        "housing_data = fetch_california_housing()"
      ]
    },
    {
      "cell_type": "markdown",
      "metadata": {
        "id": "njTHiuTYyOiO"
      },
      "source": [
        "You can optionally print the description and a few samples from the dataset for your reference."
      ]
    },
    {
      "cell_type": "code",
      "execution_count": 5,
      "metadata": {
        "colab": {
          "base_uri": "https://localhost:8080/"
        },
        "id": "-YduDpy8BsWD",
        "outputId": "ea8755aa-15c0-4bd8-9803-7bb22ee0f528"
      },
      "outputs": [
        {
          "name": "stdout",
          "output_type": "stream",
          "text": [
            "dict_keys(['data', 'target', 'frame', 'target_names', 'feature_names', 'DESCR'])\n",
            "(20640, 8)\n",
            ".. _california_housing_dataset:\n",
            "\n",
            "California Housing dataset\n",
            "--------------------------\n",
            "\n",
            "**Data Set Characteristics:**\n",
            "\n",
            "    :Number of Instances: 20640\n",
            "\n",
            "    :Number of Attributes: 8 numeric, predictive attributes and the target\n",
            "\n",
            "    :Attribute Information:\n",
            "        - MedInc        median income in block group\n",
            "        - HouseAge      median house age in block group\n",
            "        - AveRooms      average number of rooms per household\n",
            "        - AveBedrms     average number of bedrooms per household\n",
            "        - Population    block group population\n",
            "        - AveOccup      average number of household members\n",
            "        - Latitude      block group latitude\n",
            "        - Longitude     block group longitude\n",
            "\n",
            "    :Missing Attribute Values: None\n",
            "\n",
            "This dataset was obtained from the StatLib repository.\n",
            "https://www.dcc.fc.up.pt/~ltorgo/Regression/cal_housing.html\n",
            "\n",
            "The target variable is the median house value for California districts,\n",
            "expressed in hundreds of thousands of dollars ($100,000).\n",
            "\n",
            "This dataset was derived from the 1990 U.S. census, using one row per census\n",
            "block group. A block group is the smallest geographical unit for which the U.S.\n",
            "Census Bureau publishes sample data (a block group typically has a population\n",
            "of 600 to 3,000 people).\n",
            "\n",
            "An household is a group of people residing within a home. Since the average\n",
            "number of rooms and bedrooms in this dataset are provided per household, these\n",
            "columns may take surpinsingly large values for block groups with few households\n",
            "and many empty houses, such as vacation resorts.\n",
            "\n",
            "It can be downloaded/loaded using the\n",
            ":func:`sklearn.datasets.fetch_california_housing` function.\n",
            "\n",
            ".. topic:: References\n",
            "\n",
            "    - Pace, R. Kelley and Ronald Barry, Sparse Spatial Autoregressions,\n",
            "      Statistics and Probability Letters, 33 (1997) 291-297\n",
            "\n",
            "        0     1         2         3       4         5      6       7\n",
            "0  8.3252  41.0  6.984127  1.023810   322.0  2.555556  37.88 -122.23\n",
            "1  8.3014  21.0  6.238137  0.971880  2401.0  2.109842  37.86 -122.22\n",
            "2  7.2574  52.0  8.288136  1.073446   496.0  2.802260  37.85 -122.24\n",
            "3  5.6431  52.0  5.817352  1.073059   558.0  2.547945  37.85 -122.25\n",
            "4  3.8462  52.0  6.281853  1.081081   565.0  2.181467  37.85 -122.25\n",
            "       0\n",
            "0  4.526\n",
            "1  3.585\n",
            "2  3.521\n",
            "3  3.413\n",
            "4  3.422\n"
          ]
        }
      ],
      "source": [
        "\n",
        "print(housing_data.keys())\n",
        "print(housing_data.data.shape)\n",
        "print(housing_data.DESCR)\n",
        "\n",
        "print(pd.DataFrame(housing_data.data)[:5])\n",
        "print(pd.DataFrame(housing_data.target)[:5])\n"
      ]
    },
    {
      "cell_type": "markdown",
      "metadata": {
        "id": "5sspyXSmy17q"
      },
      "source": [
        "**STEP 3: Split the Dataset (10 Points)**\n",
        "\n",
        "**TO DO:** Similar to the KNN Tutorial, split the given X and y data into X_train, X_test, y_train, y_test, using **test ratio of 0.3**."
      ]
    },
    {
      "cell_type": "code",
      "execution_count": 6,
      "metadata": {
        "colab": {
          "base_uri": "https://localhost:8080/"
        },
        "id": "FlcuTTiTy9Tk",
        "outputId": "f6be06ca-5ad3-40ea-a391-9728d7d7d2ca"
      },
      "outputs": [
        {
          "name": "stdout",
          "output_type": "stream",
          "text": [
            "Size of training data=  14448  Samples\n",
            "Size of testing data=  6192  Samples\n"
          ]
        }
      ],
      "source": [
        "X = housing_data.data\n",
        "y = housing_data.target\n",
        "\n",
        "##### INPUT CODE HERE (~1 line of code) ######\n",
        "\n",
        "X_train, X_test, y_train, y_test = train_test_split(X, y, test_size = 0.3, random_state = 0)\n",
        "\n",
        "\n",
        "##############################################\n",
        "\n",
        "assert X_train.shape == (14448, 8)\n",
        "assert y_train.shape == (14448,)\n",
        "assert X_test.shape == (6192, 8)\n",
        "assert y_test.shape == (6192,)\n",
        "\n",
        "print(\"Size of training data= \", X_train.shape[0],\" Samples\")\n",
        "print(\"Size of testing data= \", X_test.shape[0],\" Samples\")\n"
      ]
    },
    {
      "cell_type": "markdown",
      "metadata": {
        "id": "z3WOEAy8zjln"
      },
      "source": [
        "**STEP 4: Fit model to training data (10 Points)**\n",
        "\n",
        "**TO DO:** Fit the given decision tree to X_train and y_train data. You may use [this link](https://scikit-learn.org/stable/modules/generated/sklearn.tree.DecisionTreeClassifier.html#sklearn.tree.DecisionTreeClassifier.fit) for reference."
      ]
    },
    {
      "cell_type": "code",
      "execution_count": 7,
      "metadata": {
        "colab": {
          "base_uri": "https://localhost:8080/"
        },
        "id": "pLKCjKwJzofY",
        "outputId": "af276b04-665b-405a-84a5-652677447167"
      },
      "outputs": [
        {
          "data": {
            "text/plain": [
              "RandomForestRegressor()"
            ]
          },
          "execution_count": 7,
          "metadata": {},
          "output_type": "execute_result"
        }
      ],
      "source": [
        "model = RandomForestRegressor()\n",
        "\n",
        "##### INPUT CODE HERE (~1 line of code) ######\n",
        "\n",
        "model.fit(X_train, y_train)\n",
        "\n",
        "##############################################"
      ]
    },
    {
      "cell_type": "markdown",
      "metadata": {
        "id": "xvTNzrcr0j4x"
      },
      "source": [
        "**STEP 4: Try Predicting Values**\n",
        "\n",
        "**TO DO (optional) :** Change values of features to see changes in the predicted value of house"
      ]
    },
    {
      "cell_type": "code",
      "execution_count": 8,
      "metadata": {
        "colab": {
          "base_uri": "https://localhost:8080/"
        },
        "id": "9rIm-v6ZH0Ju",
        "outputId": "feb8ee67-a372-4465-8b41-d40275729c0f"
      },
      "outputs": [
        {
          "name": "stdout",
          "output_type": "stream",
          "text": [
            "House Value Prediction= $ 443919.06000000035\n"
          ]
        }
      ],
      "source": [
        "\n",
        "val1 = 8.3252\n",
        "val2 = 41.0\n",
        "val3 = 6.984127\n",
        "val4 = 1.023810\n",
        "val5 = 322.0\n",
        "val6 = 2.555556\n",
        "val7 = 37.88\n",
        "val8 = -122.23\n",
        "\n",
        "row = [[val1, val2, val3, val4, val5, val6, val7, val8]]\n",
        "\n",
        "# make a single prediction\n",
        "yhat = model.predict(row)\n",
        "\n",
        "print('House Value Prediction= $',yhat[0]*100000)"
      ]
    },
    {
      "cell_type": "markdown",
      "metadata": {
        "id": "RfzVPn0x437S"
      },
      "source": [
        "**STEP 5: Testing the model (10 Points)**\n",
        "\n",
        "**TO DO:** Find target predictions by giving **X_test** input to your model and store them in **y_pred**. You may need [this link](https://scikit-learn.org/stable/modules/generated/sklearn.tree.DecisionTreeClassifier.html#sklearn.tree.DecisionTreeClassifier.predict) for reference."
      ]
    },
    {
      "cell_type": "code",
      "execution_count": 9,
      "metadata": {
        "id": "oHbnwEyt48Mr"
      },
      "outputs": [],
      "source": [
        "##### INPUT CODE HERE (~1 line of code) ######\n",
        "\n",
        "y_pred = model.predict(X_test)\n",
        "\n",
        "##############################################"
      ]
    },
    {
      "cell_type": "markdown",
      "metadata": {
        "id": "qqGiMHYC5FFu"
      },
      "source": [
        "**STEP 6: Visualize the Results (20 Points)**\n",
        "\n",
        "**TO DO:** Since this is not a classification task, we cannot plot confusion matrix. Instead we ask you to find the mean square error evaluated on all the testing data and store it in **mse**.\n",
        "\n",
        "You may need the following reference:\n",
        "\n",
        "[Mean Square Error](https://scikit-learn.org/stable/modules/generated/sklearn.metrics.mean_squared_error.html)\n"
      ]
    },
    {
      "cell_type": "code",
      "execution_count": 10,
      "metadata": {
        "colab": {
          "base_uri": "https://localhost:8080/"
        },
        "id": "sv-idAUX5Il-",
        "outputId": "9ca56b50-a27d-4442-82a7-08424784a6da"
      },
      "outputs": [
        {
          "name": "stdout",
          "output_type": "stream",
          "text": [
            "Mean Squared Error =  0.27577957743543047\n"
          ]
        }
      ],
      "source": [
        "##### INPUT CODE HERE (~1 line of code) ######\n",
        "\n",
        "mse = mean_squared_error(y_test, y_pred)\n",
        "\n",
        "##############################################\n",
        "\n",
        "print(\"Mean Squared Error = \",mse)"
      ]
    },
    {
      "cell_type": "markdown",
      "metadata": {
        "id": "gjrWJNii6Noe"
      },
      "source": [
        "\n",
        "\n",
        "---\n",
        "\n"
      ]
    },
    {
      "cell_type": "markdown",
      "metadata": {
        "id": "rZ167Bw2d9wx"
      },
      "source": [
        "# **Hyperparameter Tuning (FYI Only)**"
      ]
    },
    {
      "cell_type": "markdown",
      "metadata": {
        "id": "aciYVvHl6SXc"
      },
      "source": [
        "This section is for your information only. Simply run the code cells one by one.\n",
        "\n",
        "We will take a closer look at some of the hyperparameters you should consider tuning for the random forest ensemble and their effect on model performance.\n",
        "\n",
        "We select the hyperparameters that give us the lowest error rate or Mean Square Error in this case."
      ]
    },
    {
      "cell_type": "markdown",
      "metadata": {
        "id": "MORy4fvn6tLr"
      },
      "source": [
        "First we define a function to evaluate a model using the mean square error metric."
      ]
    },
    {
      "cell_type": "code",
      "execution_count": 11,
      "metadata": {
        "id": "CZMltehuec4q"
      },
      "outputs": [],
      "source": [
        "def find_mse(model, X, y):\n",
        "\n",
        "  yhat = model.predict(X)\n",
        "  mse = mean_squared_error(y,yhat) \n",
        "\n",
        "  return mse"
      ]
    },
    {
      "cell_type": "markdown",
      "metadata": {
        "id": "U53kHMzd6-7l"
      },
      "source": [
        "Next we define a function to test out various models and plot how the Mean Square Error evolves with respect to the hyperparameter in question."
      ]
    },
    {
      "cell_type": "code",
      "execution_count": 12,
      "metadata": {
        "id": "ttit1Xm4eqeP"
      },
      "outputs": [],
      "source": [
        "from matplotlib import pyplot\n",
        "\n",
        "def plot_tuning(models_dict,X_train,X_test,y_train,y_test):\n",
        "\n",
        "  results, names = list(), list()\n",
        "\n",
        "  for name, model in models_dict.items():\n",
        "\n",
        "    model.fit(X_train, y_train)\n",
        "    mse = find_mse(model, X_test, y_test)\n",
        "  \n",
        "    results.append(mse)\n",
        "    names.append(name)\n",
        "    print(\"Hyperparameter= \",name,\"; MSE = \",mse)\n",
        "\n",
        "\n",
        "    n = [float(i) for i in names]\n",
        "\n",
        "  pyplot.plot(n,results)\n",
        "  pyplot.ylabel('Mean Square Error')\n",
        "  pyplot.xlabel('Hyperparameter')\n",
        "  pyplot.show()"
      ]
    },
    {
      "cell_type": "markdown",
      "metadata": {
        "id": "-AbjOvTDeCGR"
      },
      "source": [
        "**Hyperparameter:** max_samples.\n",
        "\n",
        "The **max_samples** argument can be set to a float between 0 and 1 to control the percentage of the size of the training dataset to make the sample used to train each decision tree. **None** means that the entire training set will be used to train each tree."
      ]
    },
    {
      "cell_type": "code",
      "execution_count": 13,
      "metadata": {
        "id": "QcEEhuLEYpZ1"
      },
      "outputs": [],
      "source": [
        "#Store various models into a dictionary of models\n",
        "models_dict = dict()\n",
        "for i in np.arange(0.1, 1.1, 0.1):\n",
        "  # set max_samples=None to use 100%\n",
        "  key = round(i,2)\n",
        "  if i == 1.0:\n",
        "    i = None\n",
        "  models_dict[key] = RandomForestRegressor(max_samples=i)\n",
        "  "
      ]
    },
    {
      "cell_type": "code",
      "execution_count": 14,
      "metadata": {
        "colab": {
          "base_uri": "https://localhost:8080/",
          "height": 449
        },
        "id": "3UkIwr82m4wF",
        "outputId": "4bff2037-b18b-4599-da4a-efb9bcca588d"
      },
      "outputs": [
        {
          "name": "stdout",
          "output_type": "stream",
          "text": [
            "Hyperparameter=  0.1 ; MSE =  0.3314494737047598\n",
            "Hyperparameter=  0.2 ; MSE =  0.3060864469533888\n",
            "Hyperparameter=  0.3 ; MSE =  0.294459463851622\n",
            "Hyperparameter=  0.4 ; MSE =  0.28647322584464086\n",
            "Hyperparameter=  0.5 ; MSE =  0.28301578429163615\n",
            "Hyperparameter=  0.6 ; MSE =  0.27953694360121495\n",
            "Hyperparameter=  0.7 ; MSE =  0.2802174300575036\n",
            "Hyperparameter=  0.8 ; MSE =  0.2769243431976369\n",
            "Hyperparameter=  0.9 ; MSE =  0.2746504762111737\n",
            "Hyperparameter=  1.0 ; MSE =  0.27276001544806605\n"
          ]
        },
        {
          "data": {
            "image/png": "[encoded data removed]",
            "text/plain": [
              "<Figure size 432x288 with 1 Axes>"
            ]
          },
          "metadata": {
            "needs_background": "light"
          },
          "output_type": "display_data"
        }
      ],
      "source": [
        "#Plot the MSE for all models in the dictionary\n",
        "plot_tuning(models_dict,X_train,X_test,y_train,y_test)"
      ]
    },
    {
      "cell_type": "markdown",
      "metadata": {
        "id": "U1TOelFJ9jXx"
      },
      "source": [
        "**Hyperparameter:** max_features.\n",
        "\n",
        "The number of features that is randomly sampled for each split point is perhaps the most important feature to configure for random forest."
      ]
    },
    {
      "cell_type": "code",
      "execution_count": 15,
      "metadata": {
        "id": "V1TOiDTDgL7h"
      },
      "outputs": [],
      "source": [
        "#Store various models into a dictionary of models\n",
        "models_dict = dict()\n",
        "\n",
        "for i in range(1,8):\n",
        "  models_dict[str(i)] = RandomForestRegressor(max_features=i)\n"
      ]
    },
    {
      "cell_type": "code",
      "execution_count": null,
      "metadata": {
        "colab": {
          "base_uri": "https://localhost:8080/"
        },
        "id": "LSgMQgIfne3Q",
        "outputId": "e44af773-52fd-4c02-8908-7916631394c2"
      },
      "outputs": [
        {
          "name": "stdout",
          "output_type": "stream",
          "text": [
            "Hyperparameter=  1 ; MSE =  0.2905078678959592\n",
            "Hyperparameter=  2 ; MSE =  0.24829725052450716\n",
            "Hyperparameter=  3 ; MSE =  0.2481640675554295\n",
            "Hyperparameter=  4 ; MSE =  0.25616517441318903\n",
            "Hyperparameter=  5 ; MSE =  0.262933983385943\n",
            "Hyperparameter=  6 ; MSE =  0.26590198697806405\n"
          ]
        }
      ],
      "source": [
        "#Plot the MSE for all models in the dictionary\n",
        "plot_tuning(models_dict,X_train,X_test,y_train,y_test)"
      ]
    },
    {
      "cell_type": "markdown",
      "metadata": {
        "id": "2FEQHe7Y-Khh"
      },
      "source": [
        "**Hyperparameter:** n_estimators.\n",
        "\n",
        "Typically, the number of trees is increased until the model performance stabilizes. Intuition might suggest that more trees will lead to overfitting, although this is not the case."
      ]
    },
    {
      "cell_type": "code",
      "execution_count": null,
      "metadata": {
        "id": "TTblvr9xnh_0"
      },
      "outputs": [],
      "source": [
        "#Store various models into a dictionary of models\n",
        "models_dict = dict()\n",
        "\n",
        "n_trees = [10, 50, 100, 500, 1000]\n",
        "for n in n_trees:\n",
        "  models_dict[str(n)] = RandomForestRegressor(n_estimators=n)"
      ]
    },
    {
      "cell_type": "code",
      "execution_count": null,
      "metadata": {
        "id": "FRLUXSYXoGeE"
      },
      "outputs": [],
      "source": [
        "#Plot the MSE for all models in the dictionary\n",
        "plot_tuning(models_dict,X_train,X_test,y_train,y_test)"
      ]
    },
    {
      "cell_type": "markdown",
      "metadata": {
        "id": "EEZUG588-rt1"
      },
      "source": [
        "**Hyperparameter:** max_depth.\n",
        "\n",
        "A final interesting hyperparameter is the maximum depth of decision trees used in the ensemble.\n",
        "\n",
        "By default, trees are constructed to an arbitrary depth and are not pruned. This is a sensible default, although we can also explore fitting trees with different fixed depths."
      ]
    },
    {
      "cell_type": "code",
      "execution_count": null,
      "metadata": {
        "id": "TjxCheCMoMAj"
      },
      "outputs": [],
      "source": [
        "#Store various models into a dictionary of models\n",
        "models_dict = dict()\n",
        "\n",
        "depths = [i for i in range(1,8)] + [None]\n",
        "for n in depths:\n",
        "  if n==None:\n",
        "    models_dict[\"8\"] = RandomForestRegressor(max_depth=n)\n",
        "  else:\n",
        "    models_dict[str(n)] = RandomForestRegressor(max_depth=n)"
      ]
    },
    {
      "cell_type": "code",
      "execution_count": null,
      "metadata": {
        "id": "aHEgYflApNeh"
      },
      "outputs": [],
      "source": [
        "#Plot the MSE for all models in the dictionary\n",
        "plot_tuning(models_dict,X_train,X_test,y_train,y_test)"
      ]
    }
  ],
  "metadata": {
    "colab": {
      "collapsed_sections": [],
      "name": "PA_1_Decision_Trees.ipynb",
      "provenance": [],
      "toc_visible": true
    },
    "kernelspec": {
      "display_name": "Python 3",
      "name": "python3"
    },
    "language_info": {
      "name": "python"
    }
  },
  "nbformat": 4,
  "nbformat_minor": 0
}
