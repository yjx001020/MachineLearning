{
  "cells": [
    {
      "cell_type": "markdown",
      "metadata": {
        "collapsed": true,
        "id": "Gv_0zpcjL4bg"
      },
      "source": [
        "# **Machine Translation - Use a RNN to translate sentences from English to French (100 Points)**\n",
        "\n",
        "In this assignment, you will build a deep neural network that functions as part of an end-to-end machine translation pipeline. Your completed pipeline will accept English text as input and return the French translation.\n",
        "\n",
        "- **Preprocess** - You'll convert text to sequence of integers.\n",
        "- **Models** Create models which accepts a sequence of integers as input and returns a probability distribution over possible translations.\n",
        "- **Prediction** Run the model on English text."
      ]
    },
    {
      "cell_type": "code",
      "execution_count": 2,
      "metadata": {
        "id": "jP5cyUR9L4bo"
      },
      "outputs": [],
      "source": [
        "import collections\n",
        "\n",
        "import helper\n",
        "import numpy as np\n",
        "\n",
        "from keras.preprocessing.text import Tokenizer\n",
        "from keras.preprocessing.sequence import pad_sequences\n",
        "from keras.models import Model, Sequential\n",
        "from keras.layers import GRU, Input, Dense, TimeDistributed, Activation, RepeatVector, Bidirectional, Dropout, LSTM\n",
        "from keras.layers.embeddings import Embedding\n",
        "from tensorflow.keras.optimizers import Adam\n",
        "from keras.losses import sparse_categorical_crossentropy\n"
      ]
    },
    {
      "cell_type": "code",
      "source": [
        "import os\n",
        "\n",
        "def load_data(path):\n",
        "    \"\"\"\n",
        "    Load dataset\n",
        "    \"\"\"\n",
        "    input_file = os.path.join(path)\n",
        "    with open(input_file, \"r\") as f:\n",
        "        data = f.read()\n",
        "\n",
        "    return data.split('\\n')"
      ],
      "metadata": {
        "id": "WNzXBB1OYEw5"
      },
      "execution_count": 3,
      "outputs": []
    },
    {
      "cell_type": "markdown",
      "metadata": {
        "id": "EIAPzltCL4bq"
      },
      "source": [
        "## Dataset\n",
        "We begin by investigating the dataset that will be used to train and evaluate your pipeline.  The most common datasets used for machine translation are from [WMT](http://www.statmt.org/).  However, that will take a long time to train a neural network on.  We'll be using a dataset we created for assignment project that contains a small vocabulary.  You'll be able to train your model in a reasonable time with this dataset.\n",
        "### Load Data\n",
        "The `small_vocab_en` file contains English sentences with their French translations in the `small_vocab_fr` file. **Load the English and French data from these files before running the cell below.** You can learn about how to upload data in Google Collab from [here](https://towardsdatascience.com/7-ways-to-load-external-data-into-google-colab-7ba73e7d5fc7)."
      ]
    },
    {
      "cell_type": "code",
      "execution_count": 5,
      "metadata": {
        "id": "FnXsopAeL4br",
        "outputId": "641aacde-9ba3-4b22-edb9-46f27d0339c3",
        "colab": {
          "base_uri": "https://localhost:8080/"
        }
      },
      "outputs": [
        {
          "output_type": "stream",
          "name": "stdout",
          "text": [
            "Dataset Loaded\n"
          ]
        }
      ],
      "source": [
        "# Load English data\n",
        "english_sentences = load_data('small_vocab_en')\n",
        "# Load French data\n",
        "french_sentences = load_data('small_vocab_fr')\n",
        "\n",
        "print('Dataset Loaded')"
      ]
    },
    {
      "cell_type": "markdown",
      "metadata": {
        "id": "XzuAm-NNL4bt"
      },
      "source": [
        "### Files\n",
        "Each line in `small_vocab_en` contains an English sentence with the respective translation in each line of `small_vocab_fr`.  View the first five lines from each file."
      ]
    },
    {
      "cell_type": "code",
      "execution_count": 6,
      "metadata": {
        "id": "XjSPhBIyL4bu",
        "outputId": "650950fd-f8de-4b97-c836-73eb3f2c0bb5",
        "colab": {
          "base_uri": "https://localhost:8080/"
        }
      },
      "outputs": [
        {
          "output_type": "stream",
          "name": "stdout",
          "text": [
            "English sample 1:  new jersey is sometimes quiet during autumn , and it is snowy in april .\n",
            "French sample 1:  new jersey est parfois calme pendant l' automne , et il est neigeux en avril .\n",
            "\n",
            "English sample 2:  the united states is usually chilly during july , and it is usually freezing in november .\n",
            "French sample 2:  les états-unis est généralement froid en juillet , et il gèle habituellement en novembre .\n",
            "\n",
            "English sample 3:  california is usually quiet during march , and it is usually hot in june .\n",
            "French sample 3:  california est généralement calme en mars , et il est généralement chaud en juin .\n",
            "\n",
            "English sample 4:  the united states is sometimes mild during june , and it is cold in september .\n",
            "French sample 4:  les états-unis est parfois légère en juin , et il fait froid en septembre .\n",
            "\n",
            "English sample 5:  your least liked fruit is the grape , but my least liked is the apple .\n",
            "French sample 5:  votre moins aimé fruit est le raisin , mais mon moins aimé est la pomme .\n",
            "\n"
          ]
        }
      ],
      "source": [
        "for sample_i in range(5):\n",
        "    print('English sample {}:  {}'.format(sample_i + 1, english_sentences[sample_i]))\n",
        "    print('French sample {}:  {}\\n'.format(sample_i + 1, french_sentences[sample_i]))"
      ]
    },
    {
      "cell_type": "markdown",
      "metadata": {
        "id": "OCI19Y_4L4bu"
      },
      "source": [
        "From looking at the sentences, you can see they have been preprocessed already.  The puncuations have been delimited using spaces. All the text have been converted to lowercase.  This should save you some time, but the text requires more preprocessing.\n",
        "### Vocabulary\n",
        "The complexity of the problem is determined by the complexity of the vocabulary.  A more complex vocabulary is a more complex problem.  Let's look at the complexity of the dataset we'll be working with."
      ]
    },
    {
      "cell_type": "code",
      "execution_count": 7,
      "metadata": {
        "id": "vhLImvdSL4bv",
        "outputId": "a44bf610-1690-4028-b9ee-b839d63b8692",
        "colab": {
          "base_uri": "https://localhost:8080/"
        }
      },
      "outputs": [
        {
          "output_type": "stream",
          "name": "stdout",
          "text": [
            "1683525 English words.\n",
            "228 unique English words.\n",
            "\n",
            "1961295 French words.\n",
            "355 unique French words.\n"
          ]
        }
      ],
      "source": [
        "english_words_counter = collections.Counter([word for sentence in english_sentences for word in sentence.split()])\n",
        "french_words_counter = collections.Counter([word for sentence in french_sentences for word in sentence.split()])\n",
        "\n",
        "print('{} English words.'.format(len([word for sentence in english_sentences for word in sentence.split()])))\n",
        "print('{} unique English words.'.format(len(english_words_counter)))\n",
        "print()\n",
        "print('{} French words.'.format(len([word for sentence in french_sentences for word in sentence.split()])))\n",
        "print('{} unique French words.'.format(len(french_words_counter)))"
      ]
    },
    {
      "cell_type": "markdown",
      "metadata": {
        "id": "uHoodA0qL4bw"
      },
      "source": [
        "## Preprocess\n",
        "For this assignment, you won't use text data as input to your model. Instead, you'll convert the text into sequences of integers using the following preprocess methods:\n",
        "1. Tokenize the words into ids\n",
        "2. Add padding to make all the sequences the same length.\n",
        "\n",
        "### **1. Tokenize (20 Points)**\n",
        "For a neural network to predict on text data, it first has to be turned into data it can understand. Text data like \"dog\" is a sequence of ASCII character encodings.  Since a neural network is a series of multiplication and addition operations, the input data needs to be number(s).\n",
        "\n",
        "We can turn each character into a number or each word into a number.  These are called character and word ids, respectively. Word level models tend to learn better, since they are lower in complexity, so we'll use those.\n",
        "\n",
        "**TODO:** Turn each sentence into a sequence of words ids using Keras's [`Tokenizer`](https://keras.io/preprocessing/text/#tokenizer) function. Use this function to tokenize `english_sentences` and `french_sentences` in the cell below.\n",
        "\n",
        "Running the cell will run `tokenize` on sample data and show output for debugging."
      ]
    },
    {
      "cell_type": "code",
      "execution_count": 9,
      "metadata": {
        "id": "TWjpJLFEL4bw",
        "outputId": "6cfc9575-b99a-4298-ee12-18941db3cee6",
        "colab": {
          "base_uri": "https://localhost:8080/"
        }
      },
      "outputs": [
        {
          "output_type": "stream",
          "name": "stdout",
          "text": [
            "{'the': 1, 'quick': 2, 'a': 3, 'brown': 4, 'fox': 5, 'jumps': 6, 'over': 7, 'lazy': 8, 'dog': 9, 'by': 10, 'jove': 11, 'my': 12, 'study': 13, 'of': 14, 'lexicography': 15, 'won': 16, 'prize': 17, 'this': 18, 'is': 19, 'short': 20, 'sentence': 21}\n",
            "\n",
            "Sequence 1 in x\n",
            "  Input:  The quick brown fox jumps over the lazy dog .\n",
            "  Output: [1, 2, 4, 5, 6, 7, 1, 8, 9]\n",
            "Sequence 2 in x\n",
            "  Input:  By Jove , my quick study of lexicography won a prize .\n",
            "  Output: [10, 11, 12, 2, 13, 14, 15, 16, 3, 17]\n",
            "Sequence 3 in x\n",
            "  Input:  This is a short sentence .\n",
            "  Output: [18, 19, 3, 20, 21]\n"
          ]
        }
      ],
      "source": [
        "def test_tokenize(tokenize):\n",
        "    sentences = [\n",
        "        'The quick brown fox jumps over the lazy dog .',\n",
        "        'By Jove , my quick study of lexicography won a prize .',\n",
        "        'This is a short sentence .']\n",
        "    tokenized_sentences, tokenizer = tokenize(sentences)\n",
        "    assert tokenized_sentences == tokenizer.texts_to_sequences(sentences),\\\n",
        "        'Tokenizer returned and doesn\\'t generate the same sentences as the tokenized sentences returned. '\n",
        "\n",
        "def tokenize(x):\n",
        "    \"\"\"\n",
        "    Tokenize x\n",
        "    :param x: List of sentences/strings to be tokenized\n",
        "    :return: Tuple of (tokenized x data, tokenizer used to tokenize x)\n",
        "    \"\"\"\n",
        "    ##### INPUT CODE HERE (~3 line of code) ######\n",
        "    tokenizer = Tokenizer()\n",
        "    tokenizer.fit_on_texts(x)\n",
        "    tensor = tokenizer.texts_to_sequences(x) \n",
        "    return (tensor, tokenizer)\n",
        "\n",
        "test_tokenize(tokenize)\n",
        "\n",
        "\n",
        "# Tokenize Example output\n",
        "text_sentences = [\n",
        "    'The quick brown fox jumps over the lazy dog .',\n",
        "    'By Jove , my quick study of lexicography won a prize .',\n",
        "    'This is a short sentence .']\n",
        "text_tokenized, text_tokenizer = tokenize(text_sentences)\n",
        "print(text_tokenizer.word_index)\n",
        "print()\n",
        "for sample_i, (sent, token_sent) in enumerate(zip(text_sentences, text_tokenized)):\n",
        "    print('Sequence {} in x'.format(sample_i + 1))\n",
        "    print('  Input:  {}'.format(sent))\n",
        "    print('  Output: {}'.format(token_sent))"
      ]
    },
    {
      "cell_type": "markdown",
      "metadata": {
        "id": "JaZz0vINL4bz"
      },
      "source": [
        "### **2. Padding (20 Points)**\n",
        "When batching the sequence of word ids together, each sequence needs to be the same length.  Since sentences are dynamic in length, we can add padding to the end of the sequences to make them the same length.\n",
        "\n",
        "**TODO**: Make sure all the English sequences have the same length and all the French sequences have the same length by adding padding to the **end** of each sequence using Keras's [`pad_sequences`](https://keras.io/preprocessing/sequence/#pad_sequences) function.\n",
        "\n",
        "The parameters you'll be passing in pad_sequences function will be as follows:\n",
        "\n",
        "1. sequences\n",
        "2. maxlen\n",
        "3. padding\n",
        "\n",
        "\n",
        "***Hint:*** Use padding=\"post\" in pad_sequence. Your task is to figure out the values for sequences, maxlen. Rest of the other values will be DEFAULT."
      ]
    },
    {
      "cell_type": "code",
      "execution_count": 11,
      "metadata": {
        "id": "7ZCw_6liL4b0",
        "outputId": "a3f92bdf-dc81-416a-f993-b9e6d7341563",
        "colab": {
          "base_uri": "https://localhost:8080/"
        }
      },
      "outputs": [
        {
          "output_type": "stream",
          "name": "stdout",
          "text": [
            "Sequence 1 in x\n",
            "  Input:  [1 2 4 5 6 7 1 8 9]\n",
            "  Output: [1 2 4 5 6 7 1 8 9 0]\n",
            "Sequence 2 in x\n",
            "  Input:  [10 11 12  2 13 14 15 16  3 17]\n",
            "  Output: [10 11 12  2 13 14 15 16  3 17]\n",
            "Sequence 3 in x\n",
            "  Input:  [18 19  3 20 21]\n",
            "  Output: [18 19  3 20 21  0  0  0  0  0]\n"
          ]
        }
      ],
      "source": [
        "def test_pad(pad):\n",
        "    tokens = [\n",
        "        [i for i in range(4)],\n",
        "        [i for i in range(6)],\n",
        "        [i for i in range(3)]]\n",
        "    padded_tokens = pad(tokens)\n",
        "    padding_id = padded_tokens[0][-1]\n",
        "    true_padded_tokens = np.array([\n",
        "        [i for i in range(4)] + [padding_id]*2,\n",
        "        [i for i in range(6)],\n",
        "        [i for i in range(3)] + [padding_id]*3])\n",
        "    assert isinstance(padded_tokens, np.ndarray),\\\n",
        "        'Pad returned the wrong type.  Found {} type, expected numpy array type.'\n",
        "    assert np.all(padded_tokens == true_padded_tokens), 'Pad returned the wrong results.'\n",
        "\n",
        "    padded_tokens_using_length = pad(tokens, 9)\n",
        "    assert np.all(padded_tokens_using_length == np.concatenate((true_padded_tokens, np.full((3, 3), padding_id)), axis=1)),\\\n",
        "        'Using length argument return incorrect results'\n",
        "\n",
        "def pad(x, length=None):\n",
        "    \"\"\"\n",
        "    Pad x\n",
        "    :param x: List of sequences.\n",
        "    :param length: Length to pad the sequence to.  If None, use length of longest sequence in x.\n",
        "    :return: Padded numpy array of sequences\n",
        "    \"\"\"\n",
        "    ##### INPUT CODE HERE (~1 line of code) ######\n",
        "    return pad_sequences(x, maxlen=length, padding=\"post\")\n",
        "\n",
        "test_pad(pad)\n",
        "\n",
        "# Pad Tokenized output\n",
        "test_pad = pad(text_tokenized)\n",
        "for sample_i, (token_sent, pad_sent) in enumerate(zip(text_tokenized, test_pad)):\n",
        "    print('Sequence {} in x'.format(sample_i + 1))\n",
        "    print('  Input:  {}'.format(np.array(token_sent)))\n",
        "    print('  Output: {}'.format(pad_sent))"
      ]
    },
    {
      "cell_type": "markdown",
      "metadata": {
        "id": "A_6eHdKRL4b0"
      },
      "source": [
        "### Preprocess Pipeline"
      ]
    },
    {
      "cell_type": "code",
      "execution_count": 12,
      "metadata": {
        "id": "uYuoFTe3L4b1",
        "outputId": "6a6ecbe7-ebb7-4d0b-9ca4-2e1c5db458c3",
        "colab": {
          "base_uri": "https://localhost:8080/"
        }
      },
      "outputs": [
        {
          "output_type": "stream",
          "name": "stdout",
          "text": [
            "Data Preprocessed\n",
            "Max English sentence length: 15\n",
            "Max French sentence length: 21\n",
            "English vocabulary size: 200\n",
            "French vocabulary size: 344\n"
          ]
        }
      ],
      "source": [
        "def preprocess(x, y):\n",
        "    \"\"\"\n",
        "    Preprocess x and y\n",
        "    :param x: Feature List of sentences\n",
        "    :param y: Label List of sentences\n",
        "    :return: Tuple of (Preprocessed x, Preprocessed y, x tokenizer, y tokenizer)\n",
        "    \"\"\"\n",
        "    preprocess_x, x_tk = tokenize(x)\n",
        "    preprocess_y, y_tk = tokenize(y)\n",
        "\n",
        "    preprocess_x = pad(preprocess_x)\n",
        "    preprocess_y = pad(preprocess_y)\n",
        "\n",
        "    # Keras's sparse_categorical_crossentropy function requires the labels to be in 3 dimensions\n",
        "    preprocess_y = preprocess_y.reshape(*preprocess_y.shape, 1)\n",
        "\n",
        "    return preprocess_x, preprocess_y, x_tk, y_tk\n",
        "\n",
        "preproc_english_sentences, preproc_french_sentences, english_tokenizer, french_tokenizer =\\\n",
        "    preprocess(english_sentences, french_sentences)\n",
        "    \n",
        "max_english_sequence_length = preproc_english_sentences.shape[1]\n",
        "max_french_sequence_length = preproc_french_sentences.shape[1]\n",
        "english_vocab_size = len(english_tokenizer.word_index)\n",
        "french_vocab_size = len(french_tokenizer.word_index)\n",
        "\n",
        "print('Data Preprocessed')\n",
        "print(\"Max English sentence length:\", max_english_sequence_length)\n",
        "print(\"Max French sentence length:\", max_french_sequence_length)\n",
        "print(\"English vocabulary size:\", english_vocab_size)\n",
        "print(\"French vocabulary size:\", french_vocab_size)"
      ]
    },
    {
      "cell_type": "markdown",
      "metadata": {
        "id": "rc-TF1OvL4b2"
      },
      "source": [
        "## **Models**\n",
        "In this section, your task will be to experiment with various neural network architectures.\n",
        "**You will begin by training three relatively simple architectures.**\n",
        "- Model 1 is a simple RNN\n",
        "- Model 2 is a RNN with Embedding\n",
        "- Model 3 is a Bidirectional RNN\n",
        "\n",
        "**In initial testings (to check the validity of your code), you can change the number of epochs to 2 for faster results. However, the final prediction and testing for all the three models should be done with 10 epochs. *NOT using 10 epochs WILL result in 5 marks penalty.*** \n",
        "\n",
        "### Ids Back to Text\n",
        "The neural network will be translating the input to words ids, which isn't the final form we want.  We want the French translation.  The function `logits_to_text` will bridge the gab between the logits from the neural network to the French translation.  You'll be using this function to better understand the output of the neural network."
      ]
    },
    {
      "cell_type": "code",
      "execution_count": 13,
      "metadata": {
        "id": "FzhIdt1TL4b2",
        "outputId": "e8d4e8e2-e403-4986-eed2-d969e311e21d",
        "colab": {
          "base_uri": "https://localhost:8080/"
        }
      },
      "outputs": [
        {
          "output_type": "stream",
          "name": "stdout",
          "text": [
            "`logits_to_text` function loaded.\n"
          ]
        }
      ],
      "source": [
        "def logits_to_text(logits, tokenizer):\n",
        "    \"\"\"\n",
        "    Turn logits from a neural network into text using the tokenizer\n",
        "    :param logits: Logits from a neural network\n",
        "    :param tokenizer: Keras Tokenizer fit on the labels\n",
        "    :return: String that represents the text of the logits\n",
        "    \"\"\"\n",
        "    index_to_words = {id: word for word, id in tokenizer.word_index.items()}\n",
        "    index_to_words[0] = '<PAD>'\n",
        "\n",
        "    return ' '.join([index_to_words[prediction] for prediction in np.argmax(logits, 1)])\n",
        "\n",
        "print('`logits_to_text` function loaded.')"
      ]
    },
    {
      "cell_type": "markdown",
      "metadata": {
        "id": "l5ytpXVTL4b3"
      },
      "source": [
        "### **Model 1: Simple RNN (20 Points)**\n",
        "\n",
        "A basic RNN model is a good baseline for sequence data.  In this model, you'll build a RNN that translates English to French.\n",
        "\n",
        "**TODO:** Your task is to build layers using keras' [Sequential class](https://keras.io/api/models/sequential/). Sequential groups a linear stack of layers into a tf.keras.Model. You'll be creating a stack of 4 layers. The four layers(from start to end) are as follows:\n",
        "\n",
        "\n",
        "1.   [GRU Layer](https://keras.io/api/layers/recurrent_layers/gru/) - \n",
        "\n",
        "    *   units = 256\n",
        "    *   input_shape = input_shape[1:]\n",
        "    *   return_sequences = True\n",
        "2.   [TimeDistributed Layer](https://keras.io/api/layers/recurrent_layers/time_distributed/): This wrapper allows to apply a layer to every temporal slice of an input. You'll be adding a [dense](https://keras.io/api/layers/core_layers/dense/) layer.\n",
        "    *   units = 1024\n",
        "    *   activation = 'relu'\n",
        "\n",
        "    *Hint*: This layer would look like TimeDistributed(Dense(<k, v> pairs))\n",
        "\n",
        "3. [Dropout Layer](https://keras.io/api/layers/regularization_layers/dropout/):\n",
        "\n",
        "    *   rate = 0.5\n",
        "\n",
        "4.   [TimeDistributed Layer](https://keras.io/api/layers/recurrent_layers/time_distributed/): This wrapper allows to apply a layer to every temporal slice of an input. You'll be adding a [dense](https://keras.io/api/layers/core_layers/dense/) layer.\n",
        "    *   units = french_vocab_size + 1\n",
        "    *   activation = 'softmax'\n",
        "\n",
        "    *Hint*: This layer would look like TimeDistributed(Dense(<k, v> pairs))\n",
        "\n",
        "You don't have to worry about the rest of the parameters in each layer. They'll will take their default value.\n"
      ]
    },
    {
      "cell_type": "code",
      "execution_count": null,
      "metadata": {
        "id": "D49aNousL4b4"
      },
      "outputs": [],
      "source": [
        "def simple_model(input_shape, output_sequence_length, english_vocab_size, french_vocab_size):\n",
        "    \"\"\"\n",
        "    Build and train a basic RNN on x and y\n",
        "    :param input_shape: Tuple of input shape\n",
        "    :param output_sequence_length: Length of output sequence\n",
        "    :param english_vocab_size: Number of unique English words in the dataset\n",
        "    :param french_vocab_size: Number of unique French words in the dataset\n",
        "    :return: Keras model built, but not trained\n",
        "    \"\"\"\n",
        "    # Hyperparameters\n",
        "    learning_rate = 0.005\n",
        "    \n",
        "    ##### INPUT CODE HERE (~5 lines of code) ######\n",
        "    model = Sequential()\n",
        "    model.add(GRU(256, return_sequences = True, input_shape = input_shape[1:]))\n",
        "    model.add(TimeDistributed(Dense(1024, activation='relu')))\n",
        "    model.add(Dropout(0.5))\n",
        "    model.add(TimeDistributed(Dense(french_vocab_size + 1, activation='softmax')))\n",
        "    # Compile model\n",
        "    model.compile(loss=sparse_categorical_crossentropy,\n",
        "                  optimizer=Adam(learning_rate),\n",
        "                  metrics=['accuracy'])\n",
        "    return model\n",
        "\n",
        "# Reshaping the input to work with a basic RNN\n",
        "tmp_x = pad(preproc_english_sentences, max_french_sequence_length)\n",
        "tmp_x = tmp_x.reshape((-1, preproc_french_sentences.shape[-2], 1))\n",
        "\n",
        "# Train the neural network\n",
        "simple_rnn_model = simple_model(\n",
        "    tmp_x.shape,\n",
        "    max_french_sequence_length,\n",
        "    english_vocab_size,\n",
        "    french_vocab_size)\n",
        "\n",
        "print(simple_rnn_model.summary())\n",
        "\n",
        "simple_rnn_model.fit(tmp_x, preproc_french_sentences, batch_size=1024, epochs=10, validation_split=0.2)\n",
        "\n",
        "# Print prediction(s)\n",
        "print(logits_to_text(simple_rnn_model.predict(tmp_x[:1])[0], french_tokenizer))"
      ]
    },
    {
      "cell_type": "code",
      "execution_count": 17,
      "metadata": {
        "id": "EG0fI3oRL4b4",
        "outputId": "5cbc9a67-6742-4730-ec86-8e1ec3afa6d3",
        "colab": {
          "base_uri": "https://localhost:8080/"
        }
      },
      "outputs": [
        {
          "output_type": "stream",
          "name": "stdout",
          "text": [
            "Prediction:\n",
            "new jersey est parfois chaud en l' et il est est en en <PAD> <PAD> <PAD> <PAD> <PAD> <PAD> <PAD> <PAD>\n",
            "\n",
            "Correct Translation:\n",
            "[\"new jersey est parfois calme pendant l' automne , et il est neigeux en avril .\"]\n",
            "\n",
            "Original text:\n",
            "['new jersey is sometimes quiet during autumn , and it is snowy in april .']\n"
          ]
        }
      ],
      "source": [
        "# Print prediction(s)\n",
        "print(\"Prediction:\")\n",
        "print(logits_to_text(simple_rnn_model.predict(tmp_x[:1])[0], french_tokenizer))\n",
        "\n",
        "print(\"\\nCorrect Translation:\")\n",
        "print(french_sentences[:1])\n",
        "\n",
        "print(\"\\nOriginal text:\")\n",
        "print(english_sentences[:1])"
      ]
    },
    {
      "cell_type": "markdown",
      "metadata": {
        "id": "EMGEIRuwL4b5"
      },
      "source": [
        "### **Model 2: Embedding (20 Points)**\n",
        "\n",
        "You've turned the words into ids, but there's a better representation of a word.  This is called word embeddings.  An embedding is a vector representation of the word that is close to similar words in n-dimensional space, where the n represents the size of the embedding vectors.\n",
        "\n",
        "In this model, you'll create a RNN model using embedding.\n",
        "\n",
        "**TODO:** Your task is to build layers using keras' [Sequential class](https://keras.io/api/models/sequential/) again. Here, you'll be creating a stack of 5 layers. The five layers(from start to end) are as follows:\n",
        "\n",
        "1. [Embedding Layer](https://keras.io/api/layers/core_layers/embedding/):\n",
        "\n",
        "*   input_dim = english_vocab_size\n",
        "*   output_dim = 256\n",
        "*   input_length = input_shape[1]\n",
        "*   input_shape = input_shape[1:]\n",
        "\n",
        "2.   [GRU Layer](https://keras.io/api/layers/recurrent_layers/gru/): \n",
        "\n",
        "    *   units = 256\n",
        "    *   input_shape = input_shape[1:]\n",
        "    *   return_sequences = True\n",
        "3.   [TimeDistributed Layer](https://keras.io/api/layers/recurrent_layers/time_distributed/): This wrapper allows to apply a layer to every temporal slice of an input. You'll be adding a [dense](https://keras.io/api/layers/core_layers/dense/) layer.\n",
        "    *   units = 1024\n",
        "    *   activation = 'relu'\n",
        "\n",
        "    *Hint*: This layer would look like TimeDistributed(Dense(<k, v> pairs))\n",
        "\n",
        "4. [Dropout Layer](https://keras.io/api/layers/regularization_layers/dropout/):\n",
        "\n",
        "    *   rate = 0.5\n",
        "\n",
        "5.   [TimeDistributed Layer](https://keras.io/api/layers/recurrent_layers/time_distributed/): This wrapper allows to apply a layer to every temporal slice of an input. You'll be adding a [dense](https://keras.io/api/layers/core_layers/dense/) layer.\n",
        "    *   units = french_vocab_size + 1\n",
        "    *   activation = 'softmax'\n",
        "\n",
        "    *Hint*: This layer would look like TimeDistributed(Dense(<k, v> pairs))\n",
        "\n",
        "You don't have to worry about the rest of the parameters in each layer. They'll will take their default value."
      ]
    },
    {
      "cell_type": "code",
      "execution_count": 18,
      "metadata": {
        "id": "2xkjdxOoL4b5",
        "outputId": "c6749699-9e4d-4787-9c75-a4c8544649a7",
        "colab": {
          "base_uri": "https://localhost:8080/"
        }
      },
      "outputs": [
        {
          "output_type": "stream",
          "name": "stdout",
          "text": [
            "Model: \"sequential_3\"\n",
            "_________________________________________________________________\n",
            " Layer (type)                Output Shape              Param #   \n",
            "=================================================================\n",
            " embedding (Embedding)       (None, 21, 256)           51456     \n",
            "                                                                 \n",
            " gru_2 (GRU)                 (None, 21, 256)           394752    \n",
            "                                                                 \n",
            " time_distributed_4 (TimeDis  (None, 21, 1024)         263168    \n",
            " tributed)                                                       \n",
            "                                                                 \n",
            " dropout_2 (Dropout)         (None, 21, 1024)          0         \n",
            "                                                                 \n",
            " time_distributed_5 (TimeDis  (None, 21, 346)          354650    \n",
            " tributed)                                                       \n",
            "                                                                 \n",
            "=================================================================\n",
            "Total params: 1,064,026\n",
            "Trainable params: 1,064,026\n",
            "Non-trainable params: 0\n",
            "_________________________________________________________________\n",
            "Epoch 1/2\n",
            "100/100 [==============================] - 323s 3s/step - loss: 1.4516 - accuracy: 0.6661 - val_loss: 0.5504 - val_accuracy: 0.8223\n",
            "Epoch 2/2\n",
            "100/100 [==============================] - 312s 3s/step - loss: 0.4449 - accuracy: 0.8550 - val_loss: 0.3243 - val_accuracy: 0.8909\n",
            "new jersey est parfois calme en cours et il est neigeux en avril <PAD> <PAD> <PAD> <PAD> <PAD> <PAD> <PAD> <PAD>\n"
          ]
        }
      ],
      "source": [
        "def embed_model(input_shape, output_sequence_length, english_vocab_size, french_vocab_size):\n",
        "    \"\"\"\n",
        "    Build and train a RNN model using word embedding on x and y\n",
        "    :param input_shape: Tuple of input shape\n",
        "    :param output_sequence_length: Length of output sequence\n",
        "    :param english_vocab_size: Number of unique English words in the dataset\n",
        "    :param french_vocab_size: Number of unique French words in the dataset\n",
        "    :return: Keras model built, but not trained\n",
        "    \"\"\"\n",
        "    # TODO: Implement\n",
        "\n",
        "    # Hyperparameters\n",
        "    learning_rate = 0.005\n",
        "    \n",
        "    ##### INPUT CODE HERE (~6 lines of code) ######\n",
        "    model = Sequential()\n",
        "    model.add(Embedding(english_vocab_size, 256, input_length=input_shape[1], input_shape=input_shape[1:]))\n",
        "    model.add(GRU(256, return_sequences = True, input_shape = input_shape[1:]))\n",
        "    model.add(TimeDistributed(Dense(1024, activation='relu')))\n",
        "    model.add(Dropout(0.5))\n",
        "    model.add(TimeDistributed(Dense(french_vocab_size + 1, activation='softmax')))\n",
        "\n",
        "\n",
        "    # Compile model\n",
        "    model.compile(loss=sparse_categorical_crossentropy,\n",
        "                  optimizer=Adam(learning_rate),\n",
        "                  metrics=['accuracy'])\n",
        "    return model\n",
        "\n",
        "\n",
        "# TODO: Reshape the input\n",
        "tmp_x = pad(preproc_english_sentences, preproc_french_sentences.shape[1])\n",
        "tmp_x = tmp_x.reshape((-1, preproc_french_sentences.shape[-2]))\n",
        "\n",
        "# TODO: Train the neural network\n",
        "embed_rnn_model = embed_model(\n",
        "    tmp_x.shape,\n",
        "    preproc_french_sentences.shape[1],\n",
        "    len(english_tokenizer.word_index)+1,\n",
        "    len(french_tokenizer.word_index)+1)\n",
        "\n",
        "embed_rnn_model.summary()\n",
        "\n",
        "embed_rnn_model.fit(tmp_x, preproc_french_sentences, batch_size=1024, epochs=10, validation_split=0.2)\n",
        "\n",
        "# TODO: Print prediction(s)\n",
        "print(logits_to_text(embed_rnn_model.predict(tmp_x[:1])[0], french_tokenizer))"
      ]
    },
    {
      "cell_type": "code",
      "execution_count": 20,
      "metadata": {
        "id": "3Z92zrnfL4b6",
        "outputId": "4165beff-7f6b-4d21-867d-b92e6b534353",
        "colab": {
          "base_uri": "https://localhost:8080/"
        }
      },
      "outputs": [
        {
          "output_type": "stream",
          "name": "stdout",
          "text": [
            "Prediction:\n",
            "new jersey est parfois calme en cours et il est neigeux en avril <PAD> <PAD> <PAD> <PAD> <PAD> <PAD> <PAD> <PAD>\n",
            "\n",
            "Correct Translation:\n",
            "[\"new jersey est parfois calme pendant l' automne , et il est neigeux en avril .\"]\n",
            "\n",
            "Original text:\n",
            "['new jersey is sometimes quiet during autumn , and it is snowy in april .']\n"
          ]
        }
      ],
      "source": [
        "# Print prediction(s)\n",
        "print(\"Prediction:\")\n",
        "print(logits_to_text(embed_rnn_model.predict(tmp_x[:1])[0], french_tokenizer))\n",
        "\n",
        "print(\"\\nCorrect Translation:\")\n",
        "print(french_sentences[:1])\n",
        "\n",
        "print(\"\\nOriginal text:\")\n",
        "print(english_sentences[:1])"
      ]
    },
    {
      "cell_type": "markdown",
      "metadata": {
        "id": "VTt9Eg8TL4b6"
      },
      "source": [
        "### **Model 3: Bidirectional RNNs (20 Points)**\n",
        "\n",
        "One restriction of a RNN is that it can't see the future input, only the past.  This is where bidirectional recurrent neural networks come in.  They are able to see the future data.\n",
        "\n",
        "**TODO:** Your task is to build layers using keras' [Sequential class](https://keras.io/api/models/sequential/) again. Here, you'll be creating a stack of 4 layers. The four layers(from start to end) are as follows:\n",
        "\n",
        "1. [Bidirectional RNN Layer](https://keras.io/api/layers/recurrent_layers/bidirectional/): This class provides a Bidirectional wrapper for RNNs.\n",
        "\n",
        "The layer you'll use is a [GRU Layer](https://keras.io/api/layers/recurrent_layers/gru/) with following parameters :\n",
        "\n",
        "units = 128, return_sequences = True\n",
        "\n",
        "Hint: This layer would look like Bidirectional(GRU(<k, v> pairs), input_shape=input_shape[1:])\n",
        "  \n",
        "2.   [TimeDistributed Layer](https://keras.io/api/layers/recurrent_layers/time_distributed/): This wrapper allows to apply a layer to every temporal slice of an input. You'll be adding a [dense](https://keras.io/api/layers/core_layers/dense/) layer.\n",
        "    *   units = 1024\n",
        "    *   activation = 'relu'\n",
        "\n",
        "    *Hint*: This layer would look like TimeDistributed(Dense(<k, v> pairs))\n",
        "\n",
        "3. [Dropout Layer](https://keras.io/api/layers/regularization_layers/dropout/):\n",
        "\n",
        "    *   rate = 0.5\n",
        "\n",
        "4.   [TimeDistributed Layer](https://keras.io/api/layers/recurrent_layers/time_distributed/): This wrapper allows to apply a layer to every temporal slice of an input. You'll be adding a [dense](https://keras.io/api/layers/core_layers/dense/) layer.\n",
        "    *   units = french_vocab_size + 1\n",
        "    *   activation = 'softmax'\n",
        "\n",
        "    *Hint*: This layer would look like TimeDistributed(Dense(<k, v> pairs))\n",
        "\n",
        "You don't have to worry about the rest of the parameters in each layer. They'll will take their default value."
      ]
    },
    {
      "cell_type": "code",
      "execution_count": 21,
      "metadata": {
        "id": "T3jq7DQeL4b6",
        "outputId": "4081d906-0392-464b-e847-4b908fad993c",
        "colab": {
          "base_uri": "https://localhost:8080/"
        }
      },
      "outputs": [
        {
          "output_type": "stream",
          "name": "stdout",
          "text": [
            "Model: \"sequential_5\"\n",
            "_________________________________________________________________\n",
            " Layer (type)                Output Shape              Param #   \n",
            "=================================================================\n",
            " embedding_1 (Embedding)     (None, 21, 256)           51456     \n",
            "                                                                 \n",
            " gru_4 (GRU)                 (None, 21, 256)           394752    \n",
            "                                                                 \n",
            " time_distributed_8 (TimeDis  (None, 21, 1024)         263168    \n",
            " tributed)                                                       \n",
            "                                                                 \n",
            " dropout_4 (Dropout)         (None, 21, 1024)          0         \n",
            "                                                                 \n",
            " time_distributed_9 (TimeDis  (None, 21, 346)          354650    \n",
            " tributed)                                                       \n",
            "                                                                 \n",
            "=================================================================\n",
            "Total params: 1,064,026\n",
            "Trainable params: 1,064,026\n",
            "Non-trainable params: 0\n",
            "_________________________________________________________________\n",
            "Epoch 1/2\n",
            "100/100 [==============================] - 320s 3s/step - loss: 1.4355 - accuracy: 0.6705 - val_loss: 0.5142 - val_accuracy: 0.8354\n",
            "Epoch 2/2\n",
            "100/100 [==============================] - 310s 3s/step - loss: 0.4289 - accuracy: 0.8602 - val_loss: 0.3169 - val_accuracy: 0.8932\n",
            "new jersey est parfois calme en cours de l' automne neigeux neigeux avril avril <PAD> <PAD> <PAD> <PAD> <PAD> <PAD> <PAD>\n"
          ]
        }
      ],
      "source": [
        "def bd_model(input_shape, output_sequence_length, english_vocab_size, french_vocab_size):\n",
        "    \"\"\"\n",
        "    Build and train a bidirectional RNN model on x and y\n",
        "    :param input_shape: Tuple of input shape\n",
        "    :param output_sequence_length: Length of output sequence\n",
        "    :param english_vocab_size: Number of unique English words in the dataset\n",
        "    :param french_vocab_size: Number of unique French words in the dataset\n",
        "    :return: Keras model built, but not trained\n",
        "    \"\"\"\n",
        "    # TODO: Implement\n",
        "\n",
        "    # Hyperparameters\n",
        "    learning_rate = 0.003\n",
        "    \n",
        "    ##### INPUT CODE HERE (~5 lines of code) ######\n",
        "    model = Sequential()\n",
        "    model.add(Bidirectional(GRU(128,return_sequences = True), input_shape=input_shape[1:]))\n",
        "    model.add(TimeDistributed(Dense(1024, activation='relu')))\n",
        "    model.add(Dropout(0.5))\n",
        "    model.add(TimeDistributed(Dense(french_vocab_size + 1, activation='softmax')))\n",
        "\n",
        "\n",
        "    # Compile model\n",
        "    model.compile(loss=sparse_categorical_crossentropy,\n",
        "                  optimizer=Adam(learning_rate),\n",
        "                  metrics=['accuracy'])\n",
        "    return model\n",
        "\n",
        "\n",
        "# TODO: Reshape the input\n",
        "tmp_x = pad(preproc_english_sentences, preproc_french_sentences.shape[1])\n",
        "tmp_x = tmp_x.reshape((-1, preproc_french_sentences.shape[-2]))\n",
        "\n",
        "# TODO: Train and Print prediction(s)\n",
        "embed_rnn_model = embed_model(\n",
        "    tmp_x.shape,\n",
        "    preproc_french_sentences.shape[1],\n",
        "    len(english_tokenizer.word_index)+1,\n",
        "    len(french_tokenizer.word_index)+1)\n",
        "\n",
        "embed_rnn_model.summary()\n",
        "\n",
        "embed_rnn_model.fit(tmp_x, preproc_french_sentences, batch_size=1024, epochs=10, validation_split=0.2)\n",
        "\n",
        "print(logits_to_text(embed_rnn_model.predict(tmp_x[:1])[0], french_tokenizer))"
      ]
    },
    {
      "cell_type": "code",
      "execution_count": 22,
      "metadata": {
        "id": "PVR2yGKpL4b7",
        "outputId": "fc726a0a-9a7d-4cd4-81bf-d1f90a0db011",
        "colab": {
          "base_uri": "https://localhost:8080/"
        }
      },
      "outputs": [
        {
          "output_type": "stream",
          "name": "stdout",
          "text": [
            "Prediction:\n",
            "new jersey est parfois calme en cours de l' automne neigeux neigeux avril avril <PAD> <PAD> <PAD> <PAD> <PAD> <PAD> <PAD>\n",
            "\n",
            "Correct Translation:\n",
            "[\"new jersey est parfois calme pendant l' automne , et il est neigeux en avril .\"]\n",
            "\n",
            "Original text:\n",
            "['new jersey is sometimes quiet during autumn , and it is snowy in april .']\n"
          ]
        }
      ],
      "source": [
        "# Print prediction(s)\n",
        "print(\"Prediction:\")\n",
        "print(logits_to_text(embed_rnn_model.predict(tmp_x[:1])[0], french_tokenizer))\n",
        "\n",
        "print(\"\\nCorrect Translation:\")\n",
        "print(french_sentences[:1])\n",
        "\n",
        "print(\"\\nOriginal text:\")\n",
        "print(english_sentences[:1])"
      ]
    },
    {
      "cell_type": "markdown",
      "metadata": {
        "id": "yWe3_vciL4b-"
      },
      "source": [
        "## Optional Enhancements\n",
        "\n",
        "This assignment focuses on learning various network architectures for machine translation, but we don't evaluate the models according to best practices by splitting the data into separate test & training sets -- so the model accuracy is overstated. Use the [`sklearn.model_selection.train_test_split()`](http://scikit-learn.org/stable/modules/generated/sklearn.model_selection.train_test_split.html) function to create separate training & test datasets, then retrain each of the models using only the training set and evaluate the prediction accuracy using the hold out test set.\n"
      ]
    }
  ],
  "metadata": {
    "kernelspec": {
      "display_name": "Python 3",
      "language": "python",
      "name": "python3"
    },
    "language_info": {
      "codemirror_mode": {
        "name": "ipython",
        "version": 3
      },
      "file_extension": ".py",
      "mimetype": "text/x-python",
      "name": "python",
      "nbconvert_exporter": "python",
      "pygments_lexer": "ipython3",
      "version": "3.6.3"
    },
    "colab": {
      "name": "PA4_RNN_(Question).ipynb",
      "provenance": []
    }
  },
  "nbformat": 4,
  "nbformat_minor": 0
}